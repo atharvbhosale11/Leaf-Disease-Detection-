{
  "nbformat": 4,
  "nbformat_minor": 0,
  "metadata": {
    "colab": {
      "name": "Seminar_DataPrep.ipynb",
      "version": "0.3.2",
      "provenance": [],
      "collapsed_sections": []
    },
    "kernelspec": {
      "name": "python3",
      "display_name": "Python 3"
    },
    "accelerator": "GPU"
  },
  "cells": [
    {
      "cell_type": "code",
      "metadata": {
        "id": "4rxqoVj0uRtW",
        "colab_type": "code",
        "outputId": "be9e03f7-1a10-405f-c262-2e1839d30362",
        "colab": {
          "base_uri": "https://localhost:8080/",
          "height": 146
        }
      },
      "source": [
        "from google.colab import drive\n",
        "drive.mount(\"/content/gdrive\")\n",
        "print(\"Done\")"
      ],
      "execution_count": 0,
      "outputs": [
        {
          "output_type": "stream",
          "text": [
            "Go to this URL in a browser: https://accounts.google.com/o/oauth2/auth?client_id=947318989803-6bn6qk8qdgf4n4g3pfee6491hc0brc4i.apps.googleusercontent.com&redirect_uri=urn%3Aietf%3Awg%3Aoauth%3A2.0%3Aoob&scope=email%20https%3A%2F%2Fwww.googleapis.com%2Fauth%2Fdocs.test%20https%3A%2F%2Fwww.googleapis.com%2Fauth%2Fdrive%20https%3A%2F%2Fwww.googleapis.com%2Fauth%2Fdrive.photos.readonly%20https%3A%2F%2Fwww.googleapis.com%2Fauth%2Fpeopleapi.readonly&response_type=code\n",
            "\n",
            "Enter your authorization code:\n",
            "··········\n",
            "Mounted at /content/gdrive\n",
            "Done\n"
          ],
          "name": "stdout"
        }
      ]
    },
    {
      "cell_type": "code",
      "metadata": {
        "id": "Ml1zt6KSso3w",
        "colab_type": "code",
        "colab": {}
      },
      "source": [
        "import matplotlib\n",
        "matplotlib.use(\"Agg\")\n",
        "\n",
        "# import the necessary packages\n",
        "from keras.preprocessing.image import ImageDataGenerator\n",
        "from keras.optimizers import Adam\n",
        "from keras.preprocessing.image import img_to_array\n",
        "from sklearn.preprocessing import LabelBinarizer\n",
        "from sklearn.model_selection import train_test_split\n",
        "#from pyimagesearch.smallervggnet import SmallerVGGNet\n",
        "import matplotlib.pyplot as plt\n",
        "from imutils import paths\n",
        "import numpy as np\n",
        "from tqdm import tqdm\n",
        "import argparse\n",
        "import random\n",
        "import pickle\n",
        "import cv2\n",
        "import os\n",
        "import tensorflow as tf\n",
        "sess = tf.Session(config=tf.ConfigProto(log_device_placement=True))"
      ],
      "execution_count": 0,
      "outputs": []
    },
    {
      "cell_type": "code",
      "metadata": {
        "id": "fgWNPA7Dt6ZV",
        "colab_type": "code",
        "outputId": "74a32b6f-80b6-4382-ecec-b5575341da29",
        "colab": {
          "base_uri": "https://localhost:8080/",
          "height": 189
        }
      },
      "source": [
        "# # construct the argument parse and parse the arguments\n",
        "# ap = argparse.ArgumentParser()\n",
        "# ap.add_argument(\"-d\", \"--dataset\", required=True,help=\"path to input dataset (i.e., directory of images)\")\n",
        "# ap.add_argument(\"-m\", \"--model\", required=True,help=\"path to output model\")\n",
        "# ap.add_argument(\"-l\", \"--labelbin\", required=True,help=\"path to output label binarizer\")\n",
        "# ap.add_argument(\"-p\", \"--plot\", type=str, default=\"plot.png\",help=\"path to output accuracy/loss plot\")\n",
        "# args = vars(ap.parse_args())"
      ],
      "execution_count": 0,
      "outputs": [
        {
          "output_type": "stream",
          "text": [
            "usage: ipykernel_launcher.py [-h] -d DATASET -m MODEL -l LABELBIN [-p PLOT]\n",
            "ipykernel_launcher.py: error: the following arguments are required: -d/--dataset, -m/--model, -l/--labelbin\n"
          ],
          "name": "stderr"
        },
        {
          "output_type": "error",
          "ename": "SystemExit",
          "evalue": "ignored",
          "traceback": [
            "An exception has occurred, use %tb to see the full traceback.\n",
            "\u001b[0;31mSystemExit\u001b[0m\u001b[0;31m:\u001b[0m 2\n"
          ]
        },
        {
          "output_type": "stream",
          "text": [
            "/usr/local/lib/python3.6/dist-packages/IPython/core/interactiveshell.py:2890: UserWarning: To exit: use 'exit', 'quit', or Ctrl-D.\n",
            "  warn(\"To exit: use 'exit', 'quit', or Ctrl-D.\", stacklevel=1)\n"
          ],
          "name": "stderr"
        }
      ]
    },
    {
      "cell_type": "code",
      "metadata": {
        "id": "nJe34PXQtxoK",
        "colab_type": "code",
        "colab": {}
      },
      "source": [
        "EPOCHS = 100\n",
        "INIT_LR = 1e-3\n",
        "BS = 64\n",
        "IMAGE_DIMS = (128,128,3)"
      ],
      "execution_count": 0,
      "outputs": []
    },
    {
      "cell_type": "code",
      "metadata": {
        "id": "uXdCBqVduJgT",
        "colab_type": "code",
        "colab": {}
      },
      "source": [
        "\n",
        "finaldata = []"
      ],
      "execution_count": 0,
      "outputs": []
    },
    {
      "cell_type": "code",
      "metadata": {
        "id": "ZbDT_cwluCJd",
        "colab_type": "code",
        "colab": {}
      },
      "source": [
        "# grab the image paths and randomly shuffle them\n",
        "# print(\"[INFO] loading images...\")\n",
        "# imagePaths = sorted(list(paths.list_images(args[\"gdrive/My Drive/Dataset/c0/\"])))\n",
        "# random.seed(42)\n",
        "# random.shuffle(imagePaths)\n",
        "\n",
        "labels = np.array([0,1,2,3,4,5,6,7,8,9])\n",
        "\n",
        "# loop over the input imageslabel = labels[0]\n",
        "for imagePath in os.listdir(\"gdrive/My Drive/Dataset/c0/\"):\n",
        "#     image = cv2.imread(imagePath)\n",
        "    path = os.path.join(\"gdrive/My Drive/Dataset/c0/\",imagePath)\n",
        "    image = cv2.resize(cv2.imread(path,cv2.IMREAD_COLOR), (128, 128))\n",
        "    image = cv2.cvtColor(image,cv2.COLOR_BGR2RGB)\n",
        "    image = img_to_array(image)\n",
        "    finaldata.append([np.array(image), labels[0]])"
      ],
      "execution_count": 0,
      "outputs": []
    },
    {
      "cell_type": "code",
      "metadata": {
        "id": "x2Vv7fvtyC-1",
        "colab_type": "code",
        "outputId": "9d33407c-bf46-4f2a-90a6-d79cb55c8a25",
        "colab": {
          "base_uri": "https://localhost:8080/",
          "height": 35
        }
      },
      "source": [
        "# loop over the input imageslabel = labels[0]\n",
        "for imagePath in os.listdir(\"gdrive/My Drive/Dataset/c1/\"):\n",
        "#     image = cv2.imread(imagePath)\n",
        "    path = os.path.join(\"gdrive/My Drive/Dataset/c1/\",imagePath)\n",
        "    image = cv2.resize(cv2.imread(path,cv2.IMREAD_COLOR), (128, 128))\n",
        "    image = cv2.cvtColor(image,cv2.COLOR_BGR2RGB)\n",
        "    image = img_to_array(image)\n",
        "    finaldata.append([np.array(image), labels[1]])\n",
        "    \n",
        "    \n",
        "print(len(finaldata))"
      ],
      "execution_count": 0,
      "outputs": [
        {
          "output_type": "stream",
          "text": [
            "440\n"
          ],
          "name": "stdout"
        }
      ]
    },
    {
      "cell_type": "code",
      "metadata": {
        "id": "li16MvLOyDsi",
        "colab_type": "code",
        "outputId": "12d1d7a8-4ce0-4f16-fa3a-7b9c7264b1e3",
        "colab": {
          "base_uri": "https://localhost:8080/",
          "height": 35
        }
      },
      "source": [
        "# loop over the input imageslabel = labels[0]\n",
        "for imagePath in os.listdir(\"gdrive/My Drive/Dataset/c8/\"):\n",
        "#     image = cv2.imread(imagePath)\n",
        "    path = os.path.join(\"gdrive/My Drive/Dataset/c8/\",imagePath)\n",
        "    image = cv2.resize(cv2.imread(path,cv2.IMREAD_COLOR), (128, 128))\n",
        "    image = cv2.cvtColor(image,cv2.COLOR_BGR2RGB)\n",
        "    image = img_to_array(image)\n",
        "    finaldata.append([np.array(image), labels[2]])\n",
        "        \n",
        "print(len(finaldata))"
      ],
      "execution_count": 0,
      "outputs": [
        {
          "output_type": "stream",
          "text": [
            "856\n"
          ],
          "name": "stdout"
        }
      ]
    },
    {
      "cell_type": "code",
      "metadata": {
        "id": "d1CFoAViyEDU",
        "colab_type": "code",
        "outputId": "37be44ab-d2eb-4755-f862-c5d510423746",
        "colab": {
          "base_uri": "https://localhost:8080/",
          "height": 35
        }
      },
      "source": [
        "# loop over the input imageslabel = labels[0]\n",
        "for imagePath in os.listdir(\"gdrive/My Drive/Dataset/c9/\"):\n",
        "#     image = cv2.imread(imagePath)\n",
        "    path = os.path.join(\"gdrive/My Drive/Dataset/c9/\",imagePath)\n",
        "    image = cv2.resize(cv2.imread(path,cv2.IMREAD_COLOR), (128, 128))\n",
        "    image = cv2.cvtColor(image,cv2.COLOR_BGR2RGB)\n",
        "    image = img_to_array(image)\n",
        "    finaldata.append([np.array(image), labels[3]])\n",
        "        \n",
        "print(len(finaldata))"
      ],
      "execution_count": 0,
      "outputs": [
        {
          "output_type": "stream",
          "text": [
            "1156\n"
          ],
          "name": "stdout"
        }
      ]
    },
    {
      "cell_type": "code",
      "metadata": {
        "id": "kPJJmw3DyEZX",
        "colab_type": "code",
        "outputId": "3e0fcb09-66ea-4c4c-8bda-4e68941c0ba1",
        "colab": {
          "base_uri": "https://localhost:8080/",
          "height": 35
        }
      },
      "source": [
        "# loop over the input imageslabel = labels[0]\n",
        "for imagePath in os.listdir(\"gdrive/My Drive/Dataset/c10/\"):\n",
        "#     image = cv2.imread(imagePath)\n",
        "    path = os.path.join(\"gdrive/My Drive/Dataset/c10/\",imagePath)\n",
        "    image = cv2.resize(cv2.imread(path,cv2.IMREAD_COLOR), (128, 128))\n",
        "    image = cv2.cvtColor(image,cv2.COLOR_BGR2RGB)\n",
        "    image = img_to_array(image)\n",
        "    finaldata.append([np.array(image), labels[4]])\n",
        "        \n",
        "print(len(finaldata))"
      ],
      "execution_count": 0,
      "outputs": [
        {
          "output_type": "stream",
          "text": [
            "1512\n"
          ],
          "name": "stdout"
        }
      ]
    },
    {
      "cell_type": "code",
      "metadata": {
        "id": "1glC0CIrxlax",
        "colab_type": "code",
        "outputId": "e2f7375e-8d3b-47b6-b31d-8317982a3979",
        "colab": {
          "base_uri": "https://localhost:8080/",
          "height": 35
        }
      },
      "source": [
        "# loop over the input imageslabel = labels[0]\n",
        "for imagePath in os.listdir(\"gdrive/My Drive/Dataset/c11/\"):\n",
        "#     image = cv2.imread(imagePath)\n",
        "    path = os.path.join(\"gdrive/My Drive/Dataset/c11/\",imagePath)\n",
        "    image = cv2.resize(cv2.imread(path,cv2.IMREAD_COLOR), (128, 128))\n",
        "    image = cv2.cvtColor(image,cv2.COLOR_BGR2RGB)\n",
        "    image = img_to_array(image)\n",
        "    finaldata.append([np.array(image), labels[5]])\n",
        "        \n",
        "print(len(finaldata))"
      ],
      "execution_count": 0,
      "outputs": [
        {
          "output_type": "stream",
          "text": [
            "1901\n"
          ],
          "name": "stdout"
        }
      ]
    },
    {
      "cell_type": "code",
      "metadata": {
        "id": "JzQCgRYXzBqS",
        "colab_type": "code",
        "outputId": "d3a51ef4-6e2b-4fc2-d43a-df1eda5e402d",
        "colab": {
          "base_uri": "https://localhost:8080/",
          "height": 35
        }
      },
      "source": [
        "# loop over the input imageslabel = labels[0]\n",
        "for imagePath in os.listdir(\"gdrive/My Drive/Dataset/c14/\"):\n",
        "#     image = cv2.imread(imagePath)\n",
        "    path = os.path.join(\"gdrive/My Drive/Dataset/c14/\",imagePath)\n",
        "    image = cv2.resize(cv2.imread(path,cv2.IMREAD_COLOR), (128, 128))\n",
        "    image = cv2.cvtColor(image,cv2.COLOR_BGR2RGB)\n",
        "    image = img_to_array(image)\n",
        "    finaldata.append([np.array(image), labels[6]])\n",
        "        \n",
        "print(len(finaldata))"
      ],
      "execution_count": 0,
      "outputs": [
        {
          "output_type": "stream",
          "text": [
            "2042\n"
          ],
          "name": "stdout"
        }
      ]
    },
    {
      "cell_type": "code",
      "metadata": {
        "id": "wEJ_Sg9DzNUu",
        "colab_type": "code",
        "outputId": "3253d3e9-4488-4055-cb33-84437411d197",
        "colab": {
          "base_uri": "https://localhost:8080/",
          "height": 35
        }
      },
      "source": [
        "# loop over the input imageslabel = labels[0]\n",
        "for imagePath in os.listdir(\"gdrive/My Drive/Dataset/c16/\"):\n",
        "#     image = cv2.imread(imagePath)\n",
        "    path = os.path.join(\"gdrive/My Drive/Dataset/c16/\",imagePath)\n",
        "    image = cv2.resize(cv2.imread(path,cv2.IMREAD_COLOR), (128, 128))\n",
        "    image = cv2.cvtColor(image,cv2.COLOR_BGR2RGB)\n",
        "    image = img_to_array(image)\n",
        "    finaldata.append([np.array(image), labels[7]])\n",
        "        \n",
        "print(len(finaldata))"
      ],
      "execution_count": 0,
      "outputs": [
        {
          "output_type": "stream",
          "text": [
            "2812\n"
          ],
          "name": "stdout"
        }
      ]
    },
    {
      "cell_type": "code",
      "metadata": {
        "id": "yEiHdNOUzNeV",
        "colab_type": "code",
        "outputId": "4d8ba98b-f2c9-4b6a-f435-804a29c4d03a",
        "colab": {
          "base_uri": "https://localhost:8080/",
          "height": 35
        }
      },
      "source": [
        "# loop over the input imageslabel = labels[0]\n",
        "for imagePath in os.listdir(\"gdrive/My Drive/Dataset/c20/\"):\n",
        "#     image = cv2.imread(imagePath)\n",
        "    path = os.path.join(\"gdrive/My Drive/Dataset/c20/\",imagePath)\n",
        "    image = cv2.resize(cv2.imread(path,cv2.IMREAD_COLOR), (128, 128))\n",
        "    image = cv2.cvtColor(image,cv2.COLOR_BGR2RGB)\n",
        "    image = img_to_array(image)\n",
        "    finaldata.append([np.array(image), labels[8]])\n",
        "        \n",
        "print(len(finaldata))"
      ],
      "execution_count": 0,
      "outputs": [
        {
          "output_type": "stream",
          "text": [
            "3144\n"
          ],
          "name": "stdout"
        }
      ]
    },
    {
      "cell_type": "code",
      "metadata": {
        "id": "SGONenfvzNlI",
        "colab_type": "code",
        "outputId": "aa23da19-bea9-4894-9a52-d5ed191fec11",
        "colab": {
          "base_uri": "https://localhost:8080/",
          "height": 35
        }
      },
      "source": [
        "# loop over the input imageslabel = labels[0]\n",
        "for imagePath in os.listdir(\"gdrive/My Drive/Dataset/c25/\"):\n",
        "#     image = cv2.imread(imagePath)\n",
        "    path = os.path.join(\"gdrive/My Drive/Dataset/c25/\",imagePath)\n",
        "    image = cv2.resize(cv2.imread(path,cv2.IMREAD_COLOR), (128, 128))\n",
        "    image = cv2.cvtColor(image,cv2.COLOR_BGR2RGB)\n",
        "    image = img_to_array(image)\n",
        "    finaldata.append([np.array(image), labels[9]])\n",
        "        \n",
        "print(len(finaldata))"
      ],
      "execution_count": 0,
      "outputs": [
        {
          "output_type": "stream",
          "text": [
            "3747\n"
          ],
          "name": "stdout"
        }
      ]
    },
    {
      "cell_type": "code",
      "metadata": {
        "id": "PSiT6Soezr41",
        "colab_type": "code",
        "outputId": "a4623317-c184-45ee-a6e7-c17209951f50",
        "colab": {
          "base_uri": "https://localhost:8080/",
          "height": 35
        }
      },
      "source": [
        "print(len(finaldata))\n",
        "from random import shuffle\n",
        "shuffle(finaldata)\n",
        "shuffle(finaldata)\n",
        "shuffle(finaldata)"
      ],
      "execution_count": 0,
      "outputs": [
        {
          "output_type": "stream",
          "text": [
            "3747\n"
          ],
          "name": "stdout"
        }
      ]
    },
    {
      "cell_type": "code",
      "metadata": {
        "id": "sFJontZn3NUE",
        "colab_type": "code",
        "colab": {}
      },
      "source": [
        "np.save(\"gdrive/My Drive/Seminar_Data.npy\",finaldata)"
      ],
      "execution_count": 0,
      "outputs": []
    },
    {
      "cell_type": "code",
      "metadata": {
        "id": "VbW7hZO70r-y",
        "colab_type": "code",
        "colab": {}
      },
      "source": [
        ""
      ],
      "execution_count": 0,
      "outputs": []
    }
  ]
}