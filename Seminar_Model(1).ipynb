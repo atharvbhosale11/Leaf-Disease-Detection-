{
  "nbformat": 4,
  "nbformat_minor": 0,
  "metadata": {
    "colab": {
      "name": "Seminar_Model.ipynb",
      "version": "0.3.2",
      "provenance": [],
      "collapsed_sections": []
    },
    "kernelspec": {
      "name": "python3",
      "display_name": "Python 3"
    },
    "accelerator": "GPU"
  },
  "cells": [
    {
      "cell_type": "code",
      "metadata": {
        "id": "N4ISG4dt6cyC",
        "colab_type": "code",
        "outputId": "78564776-4777-4ca9-9a3b-3dbefbc731ae",
        "colab": {
          "base_uri": "https://localhost:8080/",
          "height": 148
        }
      },
      "source": [
        "from google.colab import drive\n",
        "drive.mount(\"/content/gdrive\")\n",
        "print(\"Done\")"
      ],
      "execution_count": 0,
      "outputs": [
        {
          "output_type": "stream",
          "text": [
            "Go to this URL in a browser: https://accounts.google.com/o/oauth2/auth?client_id=947318989803-6bn6qk8qdgf4n4g3pfee6491hc0brc4i.apps.googleusercontent.com&redirect_uri=urn%3Aietf%3Awg%3Aoauth%3A2.0%3Aoob&scope=email%20https%3A%2F%2Fwww.googleapis.com%2Fauth%2Fdocs.test%20https%3A%2F%2Fwww.googleapis.com%2Fauth%2Fdrive%20https%3A%2F%2Fwww.googleapis.com%2Fauth%2Fdrive.photos.readonly%20https%3A%2F%2Fwww.googleapis.com%2Fauth%2Fpeopleapi.readonly&response_type=code\n",
            "\n",
            "Enter your authorization code:\n",
            "··········\n",
            "Mounted at /content/gdrive\n",
            "Done\n"
          ],
          "name": "stdout"
        }
      ]
    },
    {
      "cell_type": "code",
      "metadata": {
        "id": "r5D0kfar5dGB",
        "colab_type": "code",
        "outputId": "e4665e44-eac8-4e68-8c0f-05422f823745",
        "colab": {
          "base_uri": "https://localhost:8080/",
          "height": 35
        }
      },
      "source": [
        "import matplotlib\n",
        "# matplotlib.use(\"Agg\")\n",
        "\n",
        "# import the necessary packages\n",
        "import keras\n",
        "from keras.applications.vgg16 import VGG16\n",
        "from keras.models import Model, Sequential\n",
        "from keras.layers import Dense, Activation, Dropout, Flatten, Conv2D, MaxPooling2D, Input, ZeroPadding2D\n",
        "from keras.layers.normalization import BatchNormalization\n",
        "from keras.callbacks import ModelCheckpoint\n",
        "from keras.optimizers import SGD\n",
        "from keras.preprocessing.image import ImageDataGenerator\n",
        "from keras.optimizers import Adam\n",
        "from keras.preprocessing.image import img_to_array\n",
        "from sklearn.preprocessing import LabelBinarizer\n",
        "from sklearn.model_selection import train_test_split\n",
        "#from pyimagesearch.smallervggnet import SmallerVGGNet\n",
        "import matplotlib.pyplot as plt\n",
        "from imutils import paths\n",
        "import numpy as np\n",
        "from tqdm import tqdm\n",
        "import argparse\n",
        "import random\n",
        "import pickle\n",
        "import cv2\n",
        "import os\n",
        "import tensorflow as tf\n",
        "sess = tf.Session(config=tf.ConfigProto(log_device_placement=True))"
      ],
      "execution_count": 0,
      "outputs": [
        {
          "output_type": "stream",
          "text": [
            "Using TensorFlow backend.\n"
          ],
          "name": "stderr"
        }
      ]
    },
    {
      "cell_type": "code",
      "metadata": {
        "id": "lqDFTFQV55G4",
        "colab_type": "code",
        "colab": {}
      },
      "source": [
        "EPOCHS = 10\n",
        "INIT_LR = 1e-3\n",
        "BS = 32\n",
        "IMAGE_DIMS = (128,128,3)\n",
        "num_classes = 10"
      ],
      "execution_count": 0,
      "outputs": []
    },
    {
      "cell_type": "code",
      "metadata": {
        "id": "e8IdrIqp57gi",
        "colab_type": "code",
        "outputId": "c71f300c-6ca4-4c38-825c-ffa4fa22ff1a",
        "colab": {
          "base_uri": "https://localhost:8080/",
          "height": 72
        }
      },
      "source": [
        "train = np.load(\"gdrive/My Drive/Seminar_Data.npy\")\n",
        "print(train.shape)\n",
        "\n",
        "X_train = np.array([i[0] for i in train]).reshape(-1,128,128,3)\n",
        "Y_train = np.array([i[1] for i in train])\n",
        "\n",
        "\n",
        "\n",
        "del train\n",
        "print(\"Train Loaded\")\n",
        "print(X_train.shape)"
      ],
      "execution_count": 0,
      "outputs": [
        {
          "output_type": "stream",
          "text": [
            "(3747, 2)\n",
            "Train Loaded\n",
            "(3747, 128, 128, 3)\n"
          ],
          "name": "stdout"
        }
      ]
    },
    {
      "cell_type": "code",
      "metadata": {
        "id": "qKXoTyEHBDC4",
        "colab_type": "code",
        "outputId": "31741a1f-8eb4-4c45-8f60-53f8ca761b75",
        "colab": {
          "base_uri": "https://localhost:8080/",
          "height": 72
        }
      },
      "source": [
        "train = np.load(\"gdrive/My Drive/Seminar_Data_Test.npy\")\n",
        "print(train.shape)\n",
        "\n",
        "X_test = np.array([i[0] for i in train]).reshape(-1,128,128,3)\n",
        "Y_test = np.array([i[1] for i in train])\n",
        "\n",
        "\n",
        "\n",
        "del train\n",
        "print(\"Test Loaded\")\n",
        "print(X_test.shape)"
      ],
      "execution_count": 0,
      "outputs": [
        {
          "output_type": "stream",
          "text": [
            "(919, 2)\n",
            "Test Loaded\n",
            "(919, 128, 128, 3)\n"
          ],
          "name": "stdout"
        }
      ]
    },
    {
      "cell_type": "code",
      "metadata": {
        "id": "T6UYLcm-BQjO",
        "colab_type": "code",
        "outputId": "489ca392-5141-4ee9-cfc7-6d4d28fd382c",
        "colab": {
          "base_uri": "https://localhost:8080/",
          "height": 54
        }
      },
      "source": [
        "print(Y_train.shape)\n",
        "X_train = X_train.astype(\"float32\")\n",
        "X_test = X_test.astype(\"float32\")\n",
        "\n",
        "X_train /= 255\n",
        "X_test /= 255\n",
        "\n",
        "Y_train = keras.utils.to_categorical(Y_train,num_classes)\n",
        "Y_test = keras.utils.to_categorical(Y_test,num_classes)\n",
        "print(Y_train.shape)"
      ],
      "execution_count": 0,
      "outputs": [
        {
          "output_type": "stream",
          "text": [
            "(3747,)\n",
            "(3747, 10)\n"
          ],
          "name": "stdout"
        }
      ]
    },
    {
      "cell_type": "code",
      "metadata": {
        "id": "Q-P5XH9kClnR",
        "colab_type": "code",
        "outputId": "93c7b97e-c780-450e-d22d-537da4012a05",
        "colab": {
          "base_uri": "https://localhost:8080/",
          "height": 92
        }
      },
      "source": [
        "model = Sequential()\n",
        "model.add(Conv2D(96, 3, strides=1, input_shape=(128,128,3)))\n",
        "model.add(Activation('relu'))\n",
        "model.add(MaxPooling2D(pool_size=3, strides=2))\n",
        "# model.add(Dropout(0.3))\n",
        "\n",
        "model.add(Conv2D(256, 5, strides=1))\n",
        "model.add(ZeroPadding2D(2))\n",
        "model.add(Activation('relu'))\n",
        "model.add(MaxPooling2D(pool_size=3, strides=2))\n",
        "# model.add(Dropout(0.3))\n",
        "\n",
        "model.add(Conv2D(384, 3, strides=1))\n",
        "model.add(ZeroPadding2D(1))\n",
        "model.add(Activation('relu'))\n",
        "# model.add(Dropout(0.3))\n",
        "\n",
        "model.add(Conv2D(384, 3, strides=1))\n",
        "model.add(ZeroPadding2D(1))\n",
        "model.add(Activation('relu'))\n",
        "# model.add(Dropout(0.3))\n",
        "\n",
        "\n",
        "model.add(Conv2D(256, 3, strides=1))\n",
        "model.add(ZeroPadding2D(1))\n",
        "model.add(Activation('relu'))\n",
        "model.add(MaxPooling2D(pool_size=3, strides=2))\n",
        "# model.add(Dropout(0.3))\n",
        "\n",
        "\n",
        "model.add(Flatten())\n",
        "\n",
        "model.add(Dense(4096))\n",
        "model.add(Activation('relu'))\n",
        "# model.add(Dropout(0.3))\n",
        "\n",
        "model.add(Dense(4096))\n",
        "model.add(Activation('relu'))\n",
        "# model.add(Dropout(0.3))\n",
        "\n",
        "model.add(Dense(num_classes))\n",
        "model.add(Activation('softmax'))"
      ],
      "execution_count": 0,
      "outputs": [
        {
          "output_type": "stream",
          "text": [
            "WARNING:tensorflow:From /usr/local/lib/python3.6/dist-packages/tensorflow/python/framework/op_def_library.py:263: colocate_with (from tensorflow.python.framework.ops) is deprecated and will be removed in a future version.\n",
            "Instructions for updating:\n",
            "Colocations handled automatically by placer.\n"
          ],
          "name": "stdout"
        }
      ]
    },
    {
      "cell_type": "code",
      "metadata": {
        "id": "t6eXZJ7aC1ci",
        "colab_type": "code",
        "outputId": "fecdd24c-17c7-4547-8e06-4aef16231bc6",
        "colab": {
          "base_uri": "https://localhost:8080/",
          "height": 972
        }
      },
      "source": [
        "model.summary()"
      ],
      "execution_count": 0,
      "outputs": [
        {
          "output_type": "stream",
          "text": [
            "_________________________________________________________________\n",
            "Layer (type)                 Output Shape              Param #   \n",
            "=================================================================\n",
            "conv2d_6 (Conv2D)            (None, 126, 126, 96)      2688      \n",
            "_________________________________________________________________\n",
            "activation_9 (Activation)    (None, 126, 126, 96)      0         \n",
            "_________________________________________________________________\n",
            "max_pooling2d_4 (MaxPooling2 (None, 62, 62, 96)        0         \n",
            "_________________________________________________________________\n",
            "conv2d_7 (Conv2D)            (None, 58, 58, 256)       614656    \n",
            "_________________________________________________________________\n",
            "zero_padding2d_5 (ZeroPaddin (None, 62, 62, 256)       0         \n",
            "_________________________________________________________________\n",
            "activation_10 (Activation)   (None, 62, 62, 256)       0         \n",
            "_________________________________________________________________\n",
            "max_pooling2d_5 (MaxPooling2 (None, 30, 30, 256)       0         \n",
            "_________________________________________________________________\n",
            "conv2d_8 (Conv2D)            (None, 28, 28, 384)       885120    \n",
            "_________________________________________________________________\n",
            "zero_padding2d_6 (ZeroPaddin (None, 30, 30, 384)       0         \n",
            "_________________________________________________________________\n",
            "activation_11 (Activation)   (None, 30, 30, 384)       0         \n",
            "_________________________________________________________________\n",
            "conv2d_9 (Conv2D)            (None, 28, 28, 384)       1327488   \n",
            "_________________________________________________________________\n",
            "zero_padding2d_7 (ZeroPaddin (None, 30, 30, 384)       0         \n",
            "_________________________________________________________________\n",
            "activation_12 (Activation)   (None, 30, 30, 384)       0         \n",
            "_________________________________________________________________\n",
            "conv2d_10 (Conv2D)           (None, 28, 28, 256)       884992    \n",
            "_________________________________________________________________\n",
            "zero_padding2d_8 (ZeroPaddin (None, 30, 30, 256)       0         \n",
            "_________________________________________________________________\n",
            "activation_13 (Activation)   (None, 30, 30, 256)       0         \n",
            "_________________________________________________________________\n",
            "max_pooling2d_6 (MaxPooling2 (None, 14, 14, 256)       0         \n",
            "_________________________________________________________________\n",
            "flatten_2 (Flatten)          (None, 50176)             0         \n",
            "_________________________________________________________________\n",
            "dense_4 (Dense)              (None, 4096)              205524992 \n",
            "_________________________________________________________________\n",
            "activation_14 (Activation)   (None, 4096)              0         \n",
            "_________________________________________________________________\n",
            "dense_5 (Dense)              (None, 4096)              16781312  \n",
            "_________________________________________________________________\n",
            "activation_15 (Activation)   (None, 4096)              0         \n",
            "_________________________________________________________________\n",
            "dense_6 (Dense)              (None, 10)                40970     \n",
            "_________________________________________________________________\n",
            "activation_16 (Activation)   (None, 10)                0         \n",
            "=================================================================\n",
            "Total params: 226,062,218\n",
            "Trainable params: 226,062,218\n",
            "Non-trainable params: 0\n",
            "_________________________________________________________________\n"
          ],
          "name": "stdout"
        }
      ]
    },
    {
      "cell_type": "code",
      "metadata": {
        "id": "lPJqUlRoESrR",
        "colab_type": "code",
        "colab": {}
      },
      "source": [
        "model.load_weights(\"gdrive/My Drive/Model_Weights/model128-006-.h5\")"
      ],
      "execution_count": 0,
      "outputs": []
    },
    {
      "cell_type": "code",
      "metadata": {
        "id": "Qk-5TGCkDHa6",
        "colab_type": "code",
        "colab": {}
      },
      "source": [
        "## CREATE DIRECTORY FIRST /home/cudacenter/DR/FINAL_05Feb/Pretrained/DenseNet_Weights_t1\n",
        "sgd = SGD(lr=1e-3, decay=1e-6, momentum = 0.9, nesterov=True)\n",
        "checkpoint = ModelCheckpoint('gdrive/My Drive/Model_Weights/model128-{epoch:03d}-.h5',verbose = 1,monitor = 'acc',save_best_only = True,mode = \"auto\")\n",
        "model.compile(loss=keras.losses.categorical_crossentropy, optimizer=sgd, metrics=['accuracy'])"
      ],
      "execution_count": 0,
      "outputs": []
    },
    {
      "cell_type": "code",
      "metadata": {
        "id": "ehYYftRKl64J",
        "colab_type": "code",
        "outputId": "b28b1027-66ed-4cb0-c8f4-a15d14ab0239",
        "colab": {
          "base_uri": "https://localhost:8080/",
          "height": 36
        }
      },
      "source": [
        "image = cv2.resize(cv2.imread(\"gdrive/My Drive/1.jpg\",cv2.IMREAD_COLOR), (128, 128))\n",
        "image = cv2.cvtColor(image,cv2.COLOR_BGR2RGB)\n",
        "image = img_to_array(image)\n",
        "image = np.array(image)\n",
        "image = image.reshape(-1,128,128,3)\n",
        "model.predict(image)"
      ],
      "execution_count": 0,
      "outputs": [
        {
          "output_type": "execute_result",
          "data": {
            "text/plain": [
              "array([[0., 0., 0., 1., 0., 0., 0., 0., 0., 0.]], dtype=float32)"
            ]
          },
          "metadata": {
            "tags": []
          },
          "execution_count": 13
        }
      ]
    },
    {
      "cell_type": "code",
      "metadata": {
        "id": "yI3l0qHODLe9",
        "colab_type": "code",
        "outputId": "3c5dd2ca-01c9-4748-f99c-f374ff21c7e9",
        "colab": {
          "base_uri": "https://localhost:8080/",
          "height": 766
        }
      },
      "source": [
        "model.fit(X_train, Y_train,batch_size=BS,epochs=EPOCHS,verbose=1,validation_data=(X_test, Y_test), callbacks=[checkpoint])"
      ],
      "execution_count": 0,
      "outputs": [
        {
          "output_type": "stream",
          "text": [
            "Train on 3747 samples, validate on 919 samples\n",
            "Epoch 1/10\n",
            "3747/3747 [==============================] - 51s 13ms/step - loss: 0.0819 - acc: 0.9712 - val_loss: 0.1668 - val_acc: 0.9467\n",
            "\n",
            "Epoch 00001: acc improved from -inf to 0.97118, saving model to gdrive/My Drive/Model_Weights/model128-001-.h5\n",
            "Epoch 2/10\n",
            "3747/3747 [==============================] - 47s 13ms/step - loss: 0.0799 - acc: 0.9746 - val_loss: 0.1905 - val_acc: 0.9282\n",
            "\n",
            "Epoch 00002: acc improved from 0.97118 to 0.97465, saving model to gdrive/My Drive/Model_Weights/model128-002-.h5\n",
            "Epoch 3/10\n",
            "3747/3747 [==============================] - 47s 12ms/step - loss: 0.0630 - acc: 0.9784 - val_loss: 0.1576 - val_acc: 0.9510\n",
            "\n",
            "Epoch 00003: acc improved from 0.97465 to 0.97838, saving model to gdrive/My Drive/Model_Weights/model128-003-.h5\n",
            "Epoch 4/10\n",
            "3747/3747 [==============================] - 47s 12ms/step - loss: 0.0517 - acc: 0.9827 - val_loss: 0.2020 - val_acc: 0.9271\n",
            "\n",
            "Epoch 00004: acc improved from 0.97838 to 0.98265, saving model to gdrive/My Drive/Model_Weights/model128-004-.h5\n",
            "Epoch 5/10\n",
            "3747/3747 [==============================] - 47s 12ms/step - loss: 0.0517 - acc: 0.9778 - val_loss: 0.1749 - val_acc: 0.9434\n",
            "\n",
            "Epoch 00005: acc did not improve from 0.98265\n",
            "Epoch 6/10\n",
            "3747/3747 [==============================] - 47s 12ms/step - loss: 0.0445 - acc: 0.9853 - val_loss: 0.1888 - val_acc: 0.9467\n",
            "\n",
            "Epoch 00006: acc improved from 0.98265 to 0.98532, saving model to gdrive/My Drive/Model_Weights/model128-006-.h5\n",
            "Epoch 7/10\n",
            "3747/3747 [==============================] - 47s 12ms/step - loss: 0.0296 - acc: 0.9907 - val_loss: 0.1638 - val_acc: 0.9423\n",
            "\n",
            "Epoch 00007: acc improved from 0.98532 to 0.99066, saving model to gdrive/My Drive/Model_Weights/model128-007-.h5\n",
            "Epoch 8/10\n",
            "3747/3747 [==============================] - 47s 12ms/step - loss: 0.0250 - acc: 0.9915 - val_loss: 0.1172 - val_acc: 0.9597\n",
            "\n",
            "Epoch 00008: acc improved from 0.99066 to 0.99146, saving model to gdrive/My Drive/Model_Weights/model128-008-.h5\n",
            "Epoch 9/10\n",
            "3747/3747 [==============================] - 47s 12ms/step - loss: 0.0598 - acc: 0.9813 - val_loss: 0.4004 - val_acc: 0.8770\n",
            "\n",
            "Epoch 00009: acc did not improve from 0.99146\n",
            "Epoch 10/10\n",
            "3747/3747 [==============================] - 47s 13ms/step - loss: 0.0473 - acc: 0.9821 - val_loss: 0.1601 - val_acc: 0.9532\n",
            "\n",
            "Epoch 00010: acc did not improve from 0.99146\n"
          ],
          "name": "stdout"
        },
        {
          "output_type": "execute_result",
          "data": {
            "text/plain": [
              "<keras.callbacks.History at 0x7f7a36243748>"
            ]
          },
          "metadata": {
            "tags": []
          },
          "execution_count": 20
        }
      ]
    },
    {
      "cell_type": "code",
      "metadata": {
        "id": "KB0vINdaDNvs",
        "colab_type": "code",
        "outputId": "669f737d-55e2-4f03-810f-d8bd4fe66dd7",
        "colab": {
          "base_uri": "https://localhost:8080/",
          "height": 86
        }
      },
      "source": [
        "score = model.evaluate(X_test,Y_test,verbose=1)\n",
        "print(\"Test Loss : \",score[0])\n",
        "print(\"Test Accuracy : \",score[1])\n",
        "Y_pred = model.predict(X_test,verbose = 1)"
      ],
      "execution_count": 0,
      "outputs": [
        {
          "output_type": "stream",
          "text": [
            "919/919 [==============================] - 3s 3ms/step\n",
            "Test Loss :  0.16011752434261345\n",
            "Test Accuracy :  0.9532100108813928\n",
            "919/919 [==============================] - 3s 3ms/step\n"
          ],
          "name": "stdout"
        }
      ]
    },
    {
      "cell_type": "code",
      "metadata": {
        "id": "TxV_qs1Bdk_9",
        "colab_type": "code",
        "colab": {}
      },
      "source": [
        "from pathlib import Path"
      ],
      "execution_count": 0,
      "outputs": []
    },
    {
      "cell_type": "code",
      "metadata": {
        "id": "vOcrEf9-Xego",
        "colab_type": "code",
        "outputId": "1224ec9d-4370-4231-cd17-9344b2f66740",
        "colab": {
          "base_uri": "https://localhost:8080/",
          "height": 34
        }
      },
      "source": [
        "# Save neural network structure\n",
        "model_structure = model.to_json()\n",
        "f = Path(\"model_structure_leaf.json\")\n",
        "f.write_text(model_structure)"
      ],
      "execution_count": 0,
      "outputs": [
        {
          "output_type": "execute_result",
          "data": {
            "text/plain": [
              "6692"
            ]
          },
          "metadata": {
            "tags": []
          },
          "execution_count": 28
        }
      ]
    },
    {
      "cell_type": "code",
      "metadata": {
        "id": "9ujWYNSEDP1D",
        "colab_type": "code",
        "outputId": "b8f7ec1c-4def-4bdc-d86b-4189d6e954aa",
        "colab": {
          "base_uri": "https://localhost:8080/",
          "height": 173
        }
      },
      "source": [
        "model.save_weights('gdrive/My Drive/Model_Weights/DR_weights_{}_modelF128.h5'.format(score[1]))"
      ],
      "execution_count": 0,
      "outputs": [
        {
          "output_type": "error",
          "ename": "NameError",
          "evalue": "ignored",
          "traceback": [
            "\u001b[0;31m---------------------------------------------------------------------------\u001b[0m",
            "\u001b[0;31mNameError\u001b[0m                                 Traceback (most recent call last)",
            "\u001b[0;32m<ipython-input-11-418e4153c797>\u001b[0m in \u001b[0;36m<module>\u001b[0;34m()\u001b[0m\n\u001b[0;32m----> 1\u001b[0;31m \u001b[0mmodel\u001b[0m\u001b[0;34m.\u001b[0m\u001b[0msave_weights\u001b[0m\u001b[0;34m(\u001b[0m\u001b[0;34m'gdrive/My Drive/Model_Weights/DR_weights_{}_modelF128.h5'\u001b[0m\u001b[0;34m.\u001b[0m\u001b[0mformat\u001b[0m\u001b[0;34m(\u001b[0m\u001b[0mscore\u001b[0m\u001b[0;34m[\u001b[0m\u001b[0;36m1\u001b[0m\u001b[0;34m]\u001b[0m\u001b[0;34m)\u001b[0m\u001b[0;34m)\u001b[0m\u001b[0;34m\u001b[0m\u001b[0;34m\u001b[0m\u001b[0m\n\u001b[0m",
            "\u001b[0;31mNameError\u001b[0m: name 'score' is not defined"
          ]
        }
      ]
    }
  ]
}